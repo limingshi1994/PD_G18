{
  "nbformat": 4,
  "nbformat_minor": 0,
  "metadata": {
    "colab": {
      "name": "Copy of Basics_keras.ipynb",
      "provenance": [],
      "collapsed_sections": [],
      "toc_visible": true,
      "include_colab_link": true
    },
    "kernelspec": {
      "display_name": "Python 3",
      "language": "python",
      "name": "python3"
    },
    "language_info": {
      "codemirror_mode": {
        "name": "ipython",
        "version": 3
      },
      "file_extension": ".py",
      "mimetype": "text/x-python",
      "name": "python",
      "nbconvert_exporter": "python",
      "pygments_lexer": "ipython3",
      "version": "3.6.10"
    }
  },
  "cells": [
    {
      "cell_type": "markdown",
      "metadata": {
        "id": "view-in-github",
        "colab_type": "text"
      },
      "source": [
        "<a href=\"https://colab.research.google.com/github/limingshi1994/PD_G18/blob/main/Copy_of_Basics_keras.ipynb\" target=\"_parent\"><img src=\"https://colab.research.google.com/assets/colab-badge.svg\" alt=\"Open In Colab\"/></a>"
      ]
    },
    {
      "cell_type": "markdown",
      "metadata": {
        "id": "sdX4feSRlK5m"
      },
      "source": [
        "# Basics of Keras\n",
        "[Keras homepage](https://keras.io/): Keras is a high-level neural networks API, written in Python and capable of running on top of TensorFlow, CNTK, or Theano. It was developed with a focus on enabling fast experimentation. Being able to go from idea to result with the least possible delay is key to doing good research.\n",
        "\n",
        "\n",
        "You may also consider installing the following optional dependencies:\n",
        "\n",
        "    cuDNN (recommended if you plan on running Keras on GPU).\n",
        "    HDF5 and h5py (required if you plan on saving Keras models to disk).\n",
        "    graphviz and pydot (used by visualization utilities to plot model graphs).\n",
        "\n",
        "\n",
        "\n",
        "**Installation**\n",
        "- for python2.x: pip install keras\n",
        "- for python3.x: pip3 install keras"
      ]
    },
    {
      "cell_type": "code",
      "metadata": {
        "id": "KXCkxN66lK5r"
      },
      "source": [
        "#!pip install keras"
      ],
      "execution_count": 1,
      "outputs": []
    },
    {
      "cell_type": "code",
      "metadata": {
        "id": "K5Y6or8WlK5z"
      },
      "source": [
        "import keras #importing keras library"
      ],
      "execution_count": 2,
      "outputs": []
    },
    {
      "cell_type": "markdown",
      "metadata": {
        "id": "kRVqzWYOlK56"
      },
      "source": [
        "### Building a network"
      ]
    },
    {
      "cell_type": "code",
      "metadata": {
        "id": "k0gvHouNlK58"
      },
      "source": [
        "import numpy as np\n",
        "from numpy.random import seed\n",
        "seed(1) # for reproducibility\n",
        "from keras.models import Sequential\n",
        "from keras.layers import Dense, Activation # import linear layer (Dense) and activation"
      ],
      "execution_count": 3,
      "outputs": []
    },
    {
      "cell_type": "markdown",
      "metadata": {
        "id": "lDzYyA1elK6B"
      },
      "source": [
        "#### There are two ways of building a network in keras:\n",
        "- Sequential: It allows you to build your network by adding layers one-after-other in a sequence. One drawback of this method is that you can't build networks that share layers.\n",
        "- Functional API: Here you build a network like a graph. Hence more complex networks can be built."
      ]
    },
    {
      "cell_type": "markdown",
      "metadata": {
        "id": "8iGt64LrlK6D"
      },
      "source": [
        "### Sequential\n",
        "Read more: https://keras.io/models/sequential/"
      ]
    },
    {
      "cell_type": "code",
      "metadata": {
        "id": "xD4QxYJJlK6F"
      },
      "source": [
        "#Simple 1 layer network \n",
        "model = Sequential()\n",
        "model.add(Dense(10, input_shape=(32,)))\n",
        "model.add(Activation('softmax'))"
      ],
      "execution_count": 4,
      "outputs": []
    },
    {
      "cell_type": "code",
      "metadata": {
        "colab": {
          "base_uri": "https://localhost:8080/"
        },
        "id": "k4Uir5lnlK6L",
        "outputId": "c4ef8bf5-5029-4a8c-f187-bb042a387ef4"
      },
      "source": [
        "model.summary() # prints the summary of the network\n",
        "# Notice in Output Shape \"None\" is batch dims, 10 is feature dims"
      ],
      "execution_count": 5,
      "outputs": [
        {
          "output_type": "stream",
          "text": [
            "Model: \"sequential\"\n",
            "_________________________________________________________________\n",
            "Layer (type)                 Output Shape              Param #   \n",
            "=================================================================\n",
            "dense (Dense)                (None, 10)                330       \n",
            "_________________________________________________________________\n",
            "activation (Activation)      (None, 10)                0         \n",
            "=================================================================\n",
            "Total params: 330\n",
            "Trainable params: 330\n",
            "Non-trainable params: 0\n",
            "_________________________________________________________________\n"
          ],
          "name": "stdout"
        }
      ]
    },
    {
      "cell_type": "markdown",
      "metadata": {
        "id": "XRBwV7uelK6R"
      },
      "source": [
        "### Functional API\n",
        "Read more: https://keras.io/getting-started/functional-api-guide/\n",
        "\n",
        "Building the same network using functional API."
      ]
    },
    {
      "cell_type": "code",
      "metadata": {
        "colab": {
          "base_uri": "https://localhost:8080/"
        },
        "id": "SvNLPYSXlK6T",
        "outputId": "db027916-f725-4446-f387-f17f499bcbd7"
      },
      "source": [
        "from keras.layers import Input\n",
        "from keras.models import Model\n",
        "inp = Input(shape=(32,))\n",
        "l1 = Dense(10)(inp) # See how the dense layer is pointing to inp\n",
        "act1 = Activation('softmax')(l1)\n",
        "\n",
        "model = Model(inputs=inp,outputs=act1)\n",
        "\n",
        "model.summary()"
      ],
      "execution_count": 6,
      "outputs": [
        {
          "output_type": "stream",
          "text": [
            "Model: \"model\"\n",
            "_________________________________________________________________\n",
            "Layer (type)                 Output Shape              Param #   \n",
            "=================================================================\n",
            "input_1 (InputLayer)         [(None, 32)]              0         \n",
            "_________________________________________________________________\n",
            "dense_1 (Dense)              (None, 10)                330       \n",
            "_________________________________________________________________\n",
            "activation_1 (Activation)    (None, 10)                0         \n",
            "=================================================================\n",
            "Total params: 330\n",
            "Trainable params: 330\n",
            "Non-trainable params: 0\n",
            "_________________________________________________________________\n"
          ],
          "name": "stdout"
        }
      ]
    },
    {
      "cell_type": "code",
      "metadata": {
        "id": "vay2JpAGlK6Y",
        "colab": {
          "base_uri": "https://localhost:8080/"
        },
        "outputId": "a760fa31-57e3-40f3-9f5c-d2e7c4170fe5"
      },
      "source": [
        "# Building a 2 layer NN for binary classification:\n",
        "\n",
        "#Simple 1 layer network \n",
        "model = Sequential()\n",
        "model.add(Dense(16, input_shape=(32,)))\n",
        "model.add(Activation('relu'))\n",
        "model.add(Dense(2))\n",
        "model.add(Activation('softmax'))\n",
        "model.summary()"
      ],
      "execution_count": 7,
      "outputs": [
        {
          "output_type": "stream",
          "text": [
            "Model: \"sequential_1\"\n",
            "_________________________________________________________________\n",
            "Layer (type)                 Output Shape              Param #   \n",
            "=================================================================\n",
            "dense_2 (Dense)              (None, 16)                528       \n",
            "_________________________________________________________________\n",
            "activation_2 (Activation)    (None, 16)                0         \n",
            "_________________________________________________________________\n",
            "dense_3 (Dense)              (None, 2)                 34        \n",
            "_________________________________________________________________\n",
            "activation_3 (Activation)    (None, 2)                 0         \n",
            "=================================================================\n",
            "Total params: 562\n",
            "Trainable params: 562\n",
            "Non-trainable params: 0\n",
            "_________________________________________________________________\n"
          ],
          "name": "stdout"
        }
      ]
    },
    {
      "cell_type": "markdown",
      "metadata": {
        "id": "8Ob97Mk1lK6e"
      },
      "source": [
        "#### Training\n",
        "\n",
        "- For supervised learning, we need (x,y) pairs to train our model. Where x is the input data and y is the corresponding ground truth.\n",
        "\n",
        "Lets sample x and y from a random distribution."
      ]
    },
    {
      "cell_type": "code",
      "metadata": {
        "id": "_oMIDh9PlK6f"
      },
      "source": [
        "# Create a set of random input vectors.\n",
        "# Both the input feature dimension and the input shape of the network should be consistent. Else you will get an error.\n",
        "x_train = np.random.rand(1000,32)\n",
        "y_train = np.random.binomial(1, 0.5, 1000) #Sampling from binomial distribution\n",
        "\n",
        "\n",
        "# Lets check our input and outputs\n",
        "\n",
        "print(\"x_train[:5]\",x_train[:5])\n",
        "print(\"y_train[:5]\",y_train[:5])"
      ],
      "execution_count": null,
      "outputs": []
    },
    {
      "cell_type": "markdown",
      "metadata": {
        "id": "KQ0WJgIElK6n"
      },
      "source": [
        "Similarly we will create our validation and test set"
      ]
    },
    {
      "cell_type": "code",
      "metadata": {
        "id": "59iPKMtxlK6p"
      },
      "source": [
        "# Validation Set\n",
        "x_val = np.random.rand(250,32)\n",
        "y_val = np.random.binomial(1, 0.5, 250)\n",
        "\n",
        "# Test Set\n",
        "x_test = np.random.rand(250,32)\n",
        "y_test = np.random.binomial(1, 0.5, 250)"
      ],
      "execution_count": null,
      "outputs": []
    },
    {
      "cell_type": "markdown",
      "metadata": {
        "id": "LASTojjKlK6t"
      },
      "source": [
        "Now we will set other hyperparameter and compile the model."
      ]
    },
    {
      "cell_type": "code",
      "metadata": {
        "id": "HOy7j_HflK6v"
      },
      "source": [
        "nb_batch = 32 # batch_size\n",
        "nb_epoch = 100 # no. of epochs\n",
        "# Compile model\n",
        "model.compile(optimizer='adam',\n",
        "              loss='categorical_crossentropy',\n",
        "              metrics=['accuracy'])\n",
        "# Check keras documentation for other optimizers\n",
        "# Since the task here is classification, categorical_crossentropy loss will be used.\n"
      ],
      "execution_count": null,
      "outputs": []
    },
    {
      "cell_type": "code",
      "metadata": {
        "id": "mTxhTf8flK60"
      },
      "source": [
        "# One last thing before, we can begin the training.\n",
        "# y_s in our toy dataset are class labels. We have to vectorize them before passing them to the network."
      ],
      "execution_count": null,
      "outputs": []
    },
    {
      "cell_type": "code",
      "metadata": {
        "id": "DPKvav_dlK64"
      },
      "source": [
        "from keras.utils import to_categorical\n",
        "\n",
        "y_train = to_categorical(y_train)\n",
        "\n",
        "print(\"y_train.shape\",y_train.shape)\n",
        "print(\"y_train[:5]\",y_train[:5])\n",
        "\n",
        "y_val = to_categorical(y_val)\n",
        "y_test = to_categorical(y_test)"
      ],
      "execution_count": null,
      "outputs": []
    },
    {
      "cell_type": "code",
      "metadata": {
        "id": "vLSxzEcqlK6-"
      },
      "source": [
        "model.fit(x=x_train, y=y_train, batch_size=nb_batch, epochs=nb_epoch, verbose=1, validation_data=(x_val,y_val), shuffle=True)\n",
        "# Keep shuffle True while training. Why?"
      ],
      "execution_count": null,
      "outputs": []
    },
    {
      "cell_type": "markdown",
      "metadata": {
        "id": "xQ5vN0TLlK7E"
      },
      "source": [
        "#### Questions:\n",
        "- Why the training loss is decreasing? why validation loss is increasing?\n",
        "- Why the training accuracy is increasing? why the validation accuracy is almost constant?\n"
      ]
    },
    {
      "cell_type": "code",
      "metadata": {
        "id": "-I1uJBVQlK7G"
      },
      "source": [
        "# Testing\n",
        "\n",
        "test_loss, test_accuracy = model.evaluate(x=x_test,y=y_test,batch_size=8)\n",
        "print(\"\\n\")\n",
        "print(\"test_loss:\",test_loss,\"    test_accuracy:\", test_accuracy)"
      ],
      "execution_count": null,
      "outputs": []
    },
    {
      "cell_type": "markdown",
      "metadata": {
        "id": "p1Y-ezuPlK7L"
      },
      "source": [
        "## Convolutional Neural Network\n"
      ]
    },
    {
      "cell_type": "markdown",
      "metadata": {
        "id": "A98vt_hBlK7M"
      },
      "source": [
        "A convolutional neural network (or CNN) is a type of neural network comprises of typically following building blocks:\n",
        "- Convolutional Layer: These are a set of kernels/filters that convolve with a signal (1D: audio,EEG, etc; 2D: Images; 3D: Videos) to find particular patterns in it based on the kernel type. The kernels or filters are learnable through gradient descent.\n",
        "- Non-linearity: Relu, Sigmoid, tanh, etc.\n",
        "- Pooling layer: Downsamples the input signal, which also reduced the necessity to have a larger convolutional layer at the output. It also introduces small translation invariance to the input signal.\n",
        "- Fully connected layer/Linear layer: They are mainly used to model the actual decision process. Example: classifier.\n",
        "\n",
        "Hence, in contrast to classical methods where features are handcrafted and then we train a classifier on those features. CNN does both learning features and classification.\n",
        "\n",
        "![Basic CNN block](https://github.com/limingshi1994/P-D/blob/main/cnn_architecture.svg?raw=1)\n",
        "Image source: https://developers.google.com/machine-learning/practica/image-classification/convolutional-neural-networks"
      ]
    },
    {
      "cell_type": "code",
      "metadata": {
        "id": "hjCtSgY9lK7O"
      },
      "source": [
        ""
      ],
      "execution_count": null,
      "outputs": []
    }
  ]
}